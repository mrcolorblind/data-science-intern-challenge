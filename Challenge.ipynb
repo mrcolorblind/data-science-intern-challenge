{
 "cells": [
  {
   "cell_type": "markdown",
   "metadata": {},
   "source": [
    "## Enunciado\n",
    "\n",
    "Neste notebook temos um problema clássico de Ciência de Dados, precisamos descobrir o preço do milho em um conjunto de cidades do Brasil. Contudo temos um problema sério, a única informação que temos hoje é a posição da cidade e o preço histórico dela, nossa modelagem não poderá se utilizar do preço atual, você ficará livre para propor fontes de informações que possam ser úteis na descoberta do preço do milho.\n",
    "\n",
    "O notebook já está estruturado no formato padrão, algumas células estarão vazias e com um comentário do é esperado que seja feito naquele trecho. \n",
    "\n",
    "Você tem total liberdade de adicionar nova células e criar novas ideias para o seu código, peço somente que mantenha as partes do código que já estão escritas pois elas servem para guiar o formato final do notebook\n",
    "\n",
    "Não se preocupe, caso alguma parte não funciona, pode adicionar um comentário ou alguma observação de qual foi o problema enferentado, mas lembre-se de sempre detalhar o seu pensamento, ele vale mais do que uma sintaxe errada no código!\n",
    "\n",
    "Boa Sorte!"
   ]
  },
  {
   "cell_type": "code",
   "execution_count": 219,
   "metadata": {},
   "outputs": [],
   "source": [
    "# Bibliotecas\n",
    "\n",
    "import pandas as pd\n",
    "import math\n",
    "import lightgbm as lgb\n",
    "from sklearn.metrics import mean_absolute_error, mean_squared_error"
   ]
  },
  {
   "cell_type": "code",
   "execution_count": 220,
   "metadata": {},
   "outputs": [
    {
     "data": {
      "text/html": [
       "<div>\n",
       "<style scoped>\n",
       "    .dataframe tbody tr th:only-of-type {\n",
       "        vertical-align: middle;\n",
       "    }\n",
       "\n",
       "    .dataframe tbody tr th {\n",
       "        vertical-align: top;\n",
       "    }\n",
       "\n",
       "    .dataframe thead th {\n",
       "        text-align: right;\n",
       "    }\n",
       "</style>\n",
       "<table border=\"1\" class=\"dataframe\">\n",
       "  <thead>\n",
       "    <tr style=\"text-align: right;\">\n",
       "      <th></th>\n",
       "      <th>city_id</th>\n",
       "      <th>reference_date</th>\n",
       "      <th>price_per_unit</th>\n",
       "    </tr>\n",
       "  </thead>\n",
       "  <tbody>\n",
       "    <tr>\n",
       "      <th>0</th>\n",
       "      <td>4104907</td>\n",
       "      <td>2021-04-27</td>\n",
       "      <td>102</td>\n",
       "    </tr>\n",
       "    <tr>\n",
       "      <th>1</th>\n",
       "      <td>5205471</td>\n",
       "      <td>2021-04-27</td>\n",
       "      <td>79</td>\n",
       "    </tr>\n",
       "    <tr>\n",
       "      <th>2</th>\n",
       "      <td>5002951</td>\n",
       "      <td>2021-04-27</td>\n",
       "      <td>105</td>\n",
       "    </tr>\n",
       "    <tr>\n",
       "      <th>3</th>\n",
       "      <td>4204202</td>\n",
       "      <td>2021-04-27</td>\n",
       "      <td>64</td>\n",
       "    </tr>\n",
       "    <tr>\n",
       "      <th>4</th>\n",
       "      <td>4204301</td>\n",
       "      <td>2021-04-27</td>\n",
       "      <td>86</td>\n",
       "    </tr>\n",
       "  </tbody>\n",
       "</table>\n",
       "</div>"
      ],
      "text/plain": [
       "   city_id reference_date  price_per_unit\n",
       "0  4104907     2021-04-27             102\n",
       "1  5205471     2021-04-27              79\n",
       "2  5002951     2021-04-27             105\n",
       "3  4204202     2021-04-27              64\n",
       "4  4204301     2021-04-27              86"
      ]
     },
     "execution_count": 220,
     "metadata": {},
     "output_type": "execute_result"
    }
   ],
   "source": [
    "# Leitura dos dados originais\n",
    "\n",
    "df = pd.read_csv('Data/real_prices.csv', index_col = 0) # Adicionei um index_col aqui porque o csv tem uma coluna com os índices\n",
    "\n",
    "# O lgb tá dando problema com algumas colunas com caracteres especiais, então eu também fiz um regex pra resolver isso\n",
    "import re\n",
    "df = df.rename(columns = lambda x:re.sub('[^A-Za-z0-9_]+', '', x))\n",
    "\n",
    "df.head()"
   ]
  },
  {
   "cell_type": "markdown",
   "metadata": {},
   "source": [
    "No primeiro momento nós precisamos definir quais serão as novas fontes de dados, para isso fica a cargo de você escolher se utilizará outras fontes de dados, ou se podemos seguir somente com as iniciais.\n",
    "\n",
    "Caso decida por adicionar novas informações basta seguir o código a seguir que demonstra como adicionar novas informação ao DF original"
   ]
  },
  {
   "cell_type": "code",
   "execution_count": 221,
   "metadata": {},
   "outputs": [],
   "source": [
    "locations = pd.read_csv('Data/cities_location.csv')\n",
    "\n",
    "df = df.merge(locations, left_on=['city_id'], right_on=['id'], how='left')\n",
    "df = df.drop(columns=['id'])"
   ]
  },
  {
   "cell_type": "markdown",
   "metadata": {},
   "source": [
    "### Nova Fonte - Indicador do Milho Esalq/B3\n",
    "\n",
    "Fonte: CEPEA\n",
    "\n",
    "https://www.cepea.esalq.usp.br/br/consultas-ao-banco-de-dados-do-site.aspx\n",
    "\n",
    "Temos uma grande vantagem utilizando essa fonte de dados: \n",
    "Além do nosso conjunto de dados ganhar uma informação importante para que possa aprender o quanto o preço do milho varia de acordo com a localização da cidade, esse indicador também já reflete a cotação da moeda, então não precisamos nos preocupar com a normalização do preço devido à inflação."
   ]
  },
  {
   "cell_type": "code",
   "execution_count": 222,
   "metadata": {},
   "outputs": [
    {
     "data": {
      "text/html": [
       "<div>\n",
       "<style scoped>\n",
       "    .dataframe tbody tr th:only-of-type {\n",
       "        vertical-align: middle;\n",
       "    }\n",
       "\n",
       "    .dataframe tbody tr th {\n",
       "        vertical-align: top;\n",
       "    }\n",
       "\n",
       "    .dataframe thead th {\n",
       "        text-align: right;\n",
       "    }\n",
       "</style>\n",
       "<table border=\"1\" class=\"dataframe\">\n",
       "  <thead>\n",
       "    <tr style=\"text-align: right;\">\n",
       "      <th></th>\n",
       "      <th>date</th>\n",
       "      <th>b3_price</th>\n",
       "      <th>b3_price_dol</th>\n",
       "    </tr>\n",
       "  </thead>\n",
       "  <tbody>\n",
       "    <tr>\n",
       "      <th>0</th>\n",
       "      <td>2021-04-27</td>\n",
       "      <td>98.88</td>\n",
       "      <td>18.09</td>\n",
       "    </tr>\n",
       "    <tr>\n",
       "      <th>1</th>\n",
       "      <td>2021-04-28</td>\n",
       "      <td>99.25</td>\n",
       "      <td>18.50</td>\n",
       "    </tr>\n",
       "    <tr>\n",
       "      <th>2</th>\n",
       "      <td>2021-04-29</td>\n",
       "      <td>99.78</td>\n",
       "      <td>18.64</td>\n",
       "    </tr>\n",
       "    <tr>\n",
       "      <th>3</th>\n",
       "      <td>2021-04-30</td>\n",
       "      <td>99.76</td>\n",
       "      <td>18.36</td>\n",
       "    </tr>\n",
       "    <tr>\n",
       "      <th>4</th>\n",
       "      <td>2021-05-03</td>\n",
       "      <td>99.84</td>\n",
       "      <td>18.41</td>\n",
       "    </tr>\n",
       "  </tbody>\n",
       "</table>\n",
       "</div>"
      ],
      "text/plain": [
       "         date  b3_price  b3_price_dol\n",
       "0  2021-04-27     98.88         18.09\n",
       "1  2021-04-28     99.25         18.50\n",
       "2  2021-04-29     99.78         18.64\n",
       "3  2021-04-30     99.76         18.36\n",
       "4  2021-05-03     99.84         18.41"
      ]
     },
     "execution_count": 222,
     "metadata": {},
     "output_type": "execute_result"
    }
   ],
   "source": [
    "b3_prices = pd.read_csv('Data/cepea_consulta.csv')\n",
    "b3_prices['date'] = b3_prices['date'].apply(lambda x: (x[-4:]+\"-\"+x[3:5]+\"-\"+x[:2])) # Transformando as datas para o mesmo formato\n",
    "b3_prices['b3_price']     = b3_prices['b3_price'].apply(lambda x: float(x.replace(',','.'))) # Transformando o tipo do dado dos preços de string pra int\n",
    "b3_prices['b3_price_dol'] = b3_prices['b3_price_dol'].apply(lambda x: float(x.replace(',','.'))) # Transformando o tipo do dado dos preços de string pra int\n",
    "b3_prices.head()"
   ]
  },
  {
   "cell_type": "code",
   "execution_count": 223,
   "metadata": {},
   "outputs": [
    {
     "data": {
      "text/html": [
       "<div>\n",
       "<style scoped>\n",
       "    .dataframe tbody tr th:only-of-type {\n",
       "        vertical-align: middle;\n",
       "    }\n",
       "\n",
       "    .dataframe tbody tr th {\n",
       "        vertical-align: top;\n",
       "    }\n",
       "\n",
       "    .dataframe thead th {\n",
       "        text-align: right;\n",
       "    }\n",
       "</style>\n",
       "<table border=\"1\" class=\"dataframe\">\n",
       "  <thead>\n",
       "    <tr style=\"text-align: right;\">\n",
       "      <th></th>\n",
       "      <th>city_id</th>\n",
       "      <th>reference_date</th>\n",
       "      <th>price_per_unit</th>\n",
       "      <th>latitude</th>\n",
       "      <th>longitude</th>\n",
       "      <th>b3_price</th>\n",
       "      <th>b3_price_dol</th>\n",
       "    </tr>\n",
       "  </thead>\n",
       "  <tbody>\n",
       "    <tr>\n",
       "      <th>0</th>\n",
       "      <td>4104907</td>\n",
       "      <td>2021-04-27</td>\n",
       "      <td>102</td>\n",
       "      <td>-24.79</td>\n",
       "      <td>-50.01</td>\n",
       "      <td>98.88</td>\n",
       "      <td>18.09</td>\n",
       "    </tr>\n",
       "    <tr>\n",
       "      <th>1</th>\n",
       "      <td>5205471</td>\n",
       "      <td>2021-04-27</td>\n",
       "      <td>79</td>\n",
       "      <td>-18.40</td>\n",
       "      <td>-52.54</td>\n",
       "      <td>98.88</td>\n",
       "      <td>18.09</td>\n",
       "    </tr>\n",
       "    <tr>\n",
       "      <th>2</th>\n",
       "      <td>5002951</td>\n",
       "      <td>2021-04-27</td>\n",
       "      <td>105</td>\n",
       "      <td>-18.79</td>\n",
       "      <td>-52.62</td>\n",
       "      <td>98.88</td>\n",
       "      <td>18.09</td>\n",
       "    </tr>\n",
       "    <tr>\n",
       "      <th>3</th>\n",
       "      <td>4204202</td>\n",
       "      <td>2021-04-27</td>\n",
       "      <td>64</td>\n",
       "      <td>-27.09</td>\n",
       "      <td>-52.61</td>\n",
       "      <td>98.88</td>\n",
       "      <td>18.09</td>\n",
       "    </tr>\n",
       "    <tr>\n",
       "      <th>4</th>\n",
       "      <td>4204301</td>\n",
       "      <td>2021-04-27</td>\n",
       "      <td>86</td>\n",
       "      <td>-27.23</td>\n",
       "      <td>-52.02</td>\n",
       "      <td>98.88</td>\n",
       "      <td>18.09</td>\n",
       "    </tr>\n",
       "  </tbody>\n",
       "</table>\n",
       "</div>"
      ],
      "text/plain": [
       "   city_id reference_date  price_per_unit  latitude  longitude  b3_price  \\\n",
       "0  4104907     2021-04-27             102    -24.79     -50.01     98.88   \n",
       "1  5205471     2021-04-27              79    -18.40     -52.54     98.88   \n",
       "2  5002951     2021-04-27             105    -18.79     -52.62     98.88   \n",
       "3  4204202     2021-04-27              64    -27.09     -52.61     98.88   \n",
       "4  4204301     2021-04-27              86    -27.23     -52.02     98.88   \n",
       "\n",
       "   b3_price_dol  \n",
       "0         18.09  \n",
       "1         18.09  \n",
       "2         18.09  \n",
       "3         18.09  \n",
       "4         18.09  "
      ]
     },
     "execution_count": 223,
     "metadata": {},
     "output_type": "execute_result"
    }
   ],
   "source": [
    "df = df.merge(b3_prices, left_on=['reference_date'], right_on=['date'], how='left')\n",
    "df = df.drop(columns=['date'])\n",
    "df.head()"
   ]
  },
  {
   "cell_type": "markdown",
   "metadata": {},
   "source": [
    "Precisamos dividir o DF entre o que será meu treino e o que será meu teste, assim cabe a você definir como dividir esse dado entre treino e teste, qual o conjunto será utilizado para treino e qual será utilizado para teste (lembrando que a mesma cidade aparece várias vezes, já que temos vários dias)"
   ]
  },
  {
   "cell_type": "code",
   "execution_count": 234,
   "metadata": {},
   "outputs": [],
   "source": [
    "# Vamos usar os dados até certa data como o treino e após certa data como o teste\n",
    "# dessa forma, simulamos a situação em que estaríamos realmente utilizando nosso modelo.\n",
    "\n",
    "# Iremos escolher uma data de forma que o nosso treino-teste fique com uma divisão de aproximadamente 90% pro treino e 10% pro teste\n",
    "split_date = sorted(df['reference_date'])[math.floor(len(df) * 0.9)]\n",
    "# Agora fazemos um vetor de bool que nos indica quem pertence a treino e quem pertence à teste\n",
    "train_entries = [True if df['reference_date'][i] <= split_date else False for i in range(len(df))]\n",
    "    \n",
    "df_train = df.iloc[train_entries]\n",
    "df_test  = df.iloc[[not x for x in train_entries]].reset_index()\n",
    "df_test  = df_test.drop(columns=['index'])"
   ]
  },
  {
   "cell_type": "markdown",
   "metadata": {},
   "source": [
    "Por fim separamos o target do conjunto de entrada, para isso basta selecionar a coluna que servirá de target no Y e remover a mesma do X"
   ]
  },
  {
   "cell_type": "code",
   "execution_count": 235,
   "metadata": {},
   "outputs": [
    {
     "name": "stdout",
     "output_type": "stream",
     "text": [
      "MAE = 11.595506554099556\n",
      "RMSE = 13.418673499184356\n"
     ]
    }
   ],
   "source": [
    "# Coloque o nome da coluna na variável abaixo\n",
    "\n",
    "target_col = 'price_per_unit'\n",
    "y = df_train[target_col]\n",
    "X = df_train.drop(['city_id', 'reference_date', target_col], axis=1)\n",
    "\n",
    "# Cria modelo\n",
    "lgbm_model = lgb.LGBMRegressor()\n",
    "lgbm_model.fit(X, y)\n",
    "\n",
    "# Predição\n",
    "y_test = df_test[target_col]\n",
    "X_test = df_test.drop(['city_id', 'reference_date', target_col], axis=1)\n",
    "predicted = lgbm_model.predict(X_test)\n",
    "\n",
    "# Calcula erro\n",
    "lgbm_mae  = mean_absolute_error(y_test, predicted)\n",
    "lgbm_rmse = mean_squared_error(y_test, predicted, squared=False)\n",
    "\n",
    "print(\"MAE =\", lgbm_mae)\n",
    "print(\"RMSE =\", lgbm_rmse)"
   ]
  },
  {
   "cell_type": "markdown",
   "metadata": {},
   "source": [
    "Fique a vontade para adicionar novas células com mais conteúdos da sua preferência a partir daqui, caso tenha algum insight interessante que ficaria fora da estrutura original basta adicionar e comentar"
   ]
  },
  {
   "cell_type": "code",
   "execution_count": null,
   "metadata": {},
   "outputs": [],
   "source": []
  }
 ],
 "metadata": {
  "kernelspec": {
   "display_name": "Python 3",
   "language": "python",
   "name": "python3"
  },
  "language_info": {
   "codemirror_mode": {
    "name": "ipython",
    "version": 3
   },
   "file_extension": ".py",
   "mimetype": "text/x-python",
   "name": "python",
   "nbconvert_exporter": "python",
   "pygments_lexer": "ipython3",
   "version": "3.8.5"
  }
 },
 "nbformat": 4,
 "nbformat_minor": 5
}
